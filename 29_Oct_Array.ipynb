{
  "nbformat": 4,
  "nbformat_minor": 0,
  "metadata": {
    "colab": {
      "provenance": []
    },
    "kernelspec": {
      "name": "python3",
      "display_name": "Python 3"
    },
    "language_info": {
      "name": "python"
    }
  },
  "cells": [
    {
      "cell_type": "markdown",
      "source": [
        "1. Given an array, check if it contains any duplicates or not."
      ],
      "metadata": {
        "id": "SD-KmCS5zS7W"
      }
    },
    {
      "cell_type": "code",
      "source": [
        "array = [1, 2, 4, 2, 5, 9]\n",
        "\n",
        "def find_dup(arr) :\n",
        "  for i in range(len(arr)):\n",
        "    if arr.count(i) > 1 :\n",
        "      return True\n",
        ""
      ],
      "metadata": {
        "id": "yYiZcisszbgz"
      },
      "execution_count": 19,
      "outputs": []
    },
    {
      "cell_type": "code",
      "source": [
        "find_dup(array)"
      ],
      "metadata": {
        "colab": {
          "base_uri": "https://localhost:8080/"
        },
        "id": "orO3SMMB1IrV",
        "outputId": "33fd1800-8060-47b7-bec2-3ef6a7ee3a32"
      },
      "execution_count": 20,
      "outputs": [
        {
          "output_type": "execute_result",
          "data": {
            "text/plain": [
              "True"
            ]
          },
          "metadata": {},
          "execution_count": 20
        }
      ]
    },
    {
      "cell_type": "markdown",
      "source": [
        "2. Given an array and an integer k, rotate the array to the right by k steps."
      ],
      "metadata": {
        "id": "HSXAp9W85jHT"
      }
    },
    {
      "cell_type": "code",
      "source": [
        "array = [1,2,3,4,5,6,7]\n",
        "k = 3\n",
        "\n",
        "def rotate_arr(arr, k):\n",
        "  n = len(arr)\n",
        "  for i in range(0, n):\n",
        "    if (i < k):\n",
        "      print(arr[n + i - k], end = \" \");     #Printing rightmost kth element\n",
        "    else:\n",
        "      print(arr[i - k], end = \" \");         #Printing array after 'k' elements\n",
        "\n",
        "  print(\"\\n\");"
      ],
      "metadata": {
        "id": "tqL-TJ5f5leI"
      },
      "execution_count": 25,
      "outputs": []
    },
    {
      "cell_type": "code",
      "source": [
        "rotate_arr(array, k=k)"
      ],
      "metadata": {
        "colab": {
          "base_uri": "https://localhost:8080/"
        },
        "id": "kx9qQrbq8GXr",
        "outputId": "6e7c2323-a652-46a5-b845-ffef16bd2ca3"
      },
      "execution_count": 26,
      "outputs": [
        {
          "output_type": "stream",
          "name": "stdout",
          "text": [
            "5 6 7 1 2 3 4 \n",
            "\n"
          ]
        }
      ]
    },
    {
      "cell_type": "markdown",
      "source": [
        "3. Reverse the given array in-place, means without using any extra data structure."
      ],
      "metadata": {
        "id": "MiZYAmK-96E8"
      }
    },
    {
      "cell_type": "code",
      "source": [
        "array = [2, 4, 5, 7, 9, 12]"
      ],
      "metadata": {
        "id": "U79HyeNU98Rj"
      },
      "execution_count": 27,
      "outputs": []
    },
    {
      "cell_type": "code",
      "source": [
        "reverse_array = array[::-1]      #Using slicing"
      ],
      "metadata": {
        "id": "6Il4sNXe-P1a"
      },
      "execution_count": 28,
      "outputs": []
    },
    {
      "cell_type": "code",
      "source": [
        "reverse_array"
      ],
      "metadata": {
        "colab": {
          "base_uri": "https://localhost:8080/"
        },
        "id": "i5TXAvPx-Vmx",
        "outputId": "be875020-3f8f-4560-9221-cbe9d4691e88"
      },
      "execution_count": 29,
      "outputs": [
        {
          "output_type": "execute_result",
          "data": {
            "text/plain": [
              "[12, 9, 7, 5, 4, 2]"
            ]
          },
          "metadata": {},
          "execution_count": 29
        }
      ]
    },
    {
      "cell_type": "markdown",
      "source": [
        "4. Given an array of integers, find the maximum element in an array"
      ],
      "metadata": {
        "id": "eTa5IBdl-dnu"
      }
    },
    {
      "cell_type": "code",
      "source": [
        "array = [10, 5, 20, 8, 15]"
      ],
      "metadata": {
        "id": "HJpT9sge-Xxo"
      },
      "execution_count": 32,
      "outputs": []
    },
    {
      "cell_type": "code",
      "source": [
        "def max(arr):\n",
        "  largest = arr[0]\n",
        "  n = len(arr)\n",
        "\n",
        "  for i in range(1,n):          #Starting from second element and comparing each element with the current largest\n",
        "    if arr[i] > largest:\n",
        "      largest = arr[i]\n",
        "\n",
        "  return largest\n"
      ],
      "metadata": {
        "id": "-D59BmrZ_CLW"
      },
      "execution_count": 35,
      "outputs": []
    },
    {
      "cell_type": "code",
      "source": [
        "max(array)"
      ],
      "metadata": {
        "colab": {
          "base_uri": "https://localhost:8080/"
        },
        "id": "HWJYuuRFAXjW",
        "outputId": "290571e5-dd81-4ef2-c513-a7c85c2c50a4"
      },
      "execution_count": 36,
      "outputs": [
        {
          "output_type": "execute_result",
          "data": {
            "text/plain": [
              "20"
            ]
          },
          "metadata": {},
          "execution_count": 36
        }
      ]
    },
    {
      "cell_type": "markdown",
      "source": [
        "5. Given a sorted array, remove the duplicate element without using any extra data structure."
      ],
      "metadata": {
        "id": "PKC4jOb2AocP"
      }
    },
    {
      "cell_type": "code",
      "source": [
        "def remove_duplicates(arr):\n",
        "    n = len(arr)\n",
        "    # To store index of next unique element\n",
        "    j = 0\n",
        "\n",
        "    for i in range(n - 1):          # Just maintaining another updated index i.e. j\n",
        "        if arr[i] != arr[i + 1]:\n",
        "            arr[j] = arr[i]\n",
        "            j += 1\n",
        "\n",
        "    arr[j] = arr[n - 1]\n",
        "\n",
        "    return j + 1\n",
        "\n",
        "\n",
        "# Driver code\n",
        "if __name__ == \"__main__\":\n",
        "    arr = [1, 1, 2, 2, 2, 3, 3, 4, 4, 4, 5, 5]\n",
        "    n = len(arr)\n",
        "\n",
        "    # remove_duplicates() returns new size of array.\n",
        "    n = remove_duplicates(arr)\n",
        "\n",
        "    # Print updated array\n",
        "    for i in range(n):\n",
        "        print(arr[i], end=\" \")"
      ],
      "metadata": {
        "colab": {
          "base_uri": "https://localhost:8080/"
        },
        "id": "lKrfkqcVAaOq",
        "outputId": "17817bf3-0ae7-452e-f9a9-037f57534f5d"
      },
      "execution_count": 40,
      "outputs": [
        {
          "output_type": "stream",
          "name": "stdout",
          "text": [
            "1 2 3 4 5 "
          ]
        }
      ]
    }
  ]
}